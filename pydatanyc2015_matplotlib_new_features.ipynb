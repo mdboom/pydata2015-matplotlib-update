{
 "cells": [
  {
   "cell_type": "markdown",
   "metadata": {},
   "source": [
    "<img src=\"logo-text.png\"/>\n",
    "\n",
    "### PyData NYC 2015\n",
    "\n",
    "**Michael Droettboom** | mdroettboom@continuum.io | Continuum Analytics\n",
    "\n",
    "**Thomas A Caswell** |  tcaswell@{bnl.gov, gmail.com} | Brookhaven National Labratory\n",
    "\n",
    "Co-lead developers of matplotlib\n",
    "\n",
    "This notebook requires matplotlib 1.5.0"
   ]
  },
  {
   "cell_type": "code",
   "execution_count": null,
   "metadata": {
    "collapsed": false,
    "scrolled": false
   },
   "outputs": [],
   "source": [
    "%matplotlib notebook\n",
    "import pandas as pd\n",
    "import numpy as np\n",
    "import matplotlib.pyplot as plt\n",
    "from collections import Counter\n",
    "import datetime as dt\n",
    "import itertools\n",
    "import matplotlib"
   ]
  },
  {
   "cell_type": "markdown",
   "metadata": {},
   "source": [
    "## matplotlib is alive and well\n",
    "\n",
    "- Officially a NumFocus project\n",
    "- More developer resources available"
   ]
  },
  {
   "cell_type": "markdown",
   "metadata": {},
   "source": [
    "### Other stats"
   ]
  },
  {
   "cell_type": "markdown",
   "metadata": {},
   "source": [
    "- matplotlib.org\n",
    "  - 470k sessions/month\n",
    "  - 1.4m page views/month\n",
    "  - google thinks 190k users/month\n",
    "  - cute patterns in time\n",
    "- github\n",
    "  - 40k views/month\n",
    "  - 14k users/month\n",
    "  - 1.3k unique cloners/month\n",
    "  - 1.3k forks\n",
    "- source forge\n",
    "  - 60-120k monthly downloads (39-55% windows)\n",
    "  - 2M total downloads in last 2 years\n",
    "  - spikes of 100k/month around releases\n",
    "- pypi\n",
    "  - 190k/month\n",
    "- Debian popcon\n",
    "  - 93rd percentile in popularity among all Debian packages\n",
    "- Other\n",
    "  - Doesn't include Cristoph Gohlke, Enthought Canopy, Continuum Anaconda, other Linux and Mac packaging"
   ]
  },
  {
   "cell_type": "markdown",
   "metadata": {},
   "source": [
    "## Release Schedule"
   ]
  },
  {
   "cell_type": "markdown",
   "metadata": {},
   "source": [
    "- October 29, 2015: Version 1.5.0\n",
    "- Q4, 2015: Version 2.0: Style changes only\n",
    "- Q2, 2016: Version 2.1: Regular feature release"
   ]
  },
  {
   "cell_type": "markdown",
   "metadata": {},
   "source": [
    "# DEMOS\n",
    "\n",
    "All working with 1.5.0"
   ]
  },
  {
   "cell_type": "markdown",
   "metadata": {},
   "source": [
    "## Notebook AGG (`%matplotlib nbagg` or `%matplotlib notebook`)\n",
    "\n",
    " - interactive front end for mpl in the notebook\n",
    " - needs a live python kernel on the server side\n",
    "   - only a png in nbviewer\n",
    " - Mike Droettboom, Jason Grout, Phil Elson, Steven Silvester \n",
    " - full mouse/key events back into python layer"
   ]
  },
  {
   "cell_type": "code",
   "execution_count": null,
   "metadata": {
    "collapsed": false,
    "scrolled": false
   },
   "outputs": [],
   "source": [
    "fig, ax = plt.subplots()\n",
    "x = np.linspace(0,10,10000)\n",
    "y = np.sin(x)\n",
    "ln, = ax.plot(x,y, lw=3)\n",
    "evt = []\n",
    "colors = iter(itertools.cycle(['r', 'g', 'b', 'k', 'purple']))\n",
    "\n",
    "txt = ax.annotate('.', (.5, .5), xycoords='axes fraction', ha='center')\n",
    "\n",
    "def on_event(event):\n",
    "    if event.name.startswith('key'):\n",
    "        if len(event.key) == 1:\n",
    "            txt.set_text(txt.get_text() + event.key)\n",
    "        elif event.key == 'backspace':\n",
    "            txt.set_text(txt.get_text()[:-1])\n",
    "        fig.suptitle('%s: %s' % (event.name, event.key))\n",
    "    elif event.name == 'scroll_event':\n",
    "        fig.suptitle('%s: %s' % (event.name, event.step))\n",
    "    else:\n",
    "        fig.suptitle('%s: %s' % (event.name, event.button))\n",
    "    evt.append(event)\n",
    "    ln.set_color(next(colors))\n",
    "\n",
    "fig.canvas.mpl_connect('button_press_event', on_event)\n",
    "fig.canvas.mpl_connect('button_release_event', on_event)\n",
    "fig.canvas.mpl_connect('scroll_event', on_event)\n",
    "fig.canvas.mpl_connect('key_press_event', on_event)"
   ]
  },
  {
   "cell_type": "markdown",
   "metadata": {},
   "source": [
    "## 3D"
   ]
  },
  {
   "cell_type": "code",
   "execution_count": null,
   "metadata": {
    "collapsed": false,
    "scrolled": false
   },
   "outputs": [],
   "source": [
    "from mpl_toolkits.mplot3d import Axes3D\n",
    "\n",
    "\n",
    "def lorenz(x, y, z, s=10, r=28, b=2.667):\n",
    "    x_dot = s*(y - x)\n",
    "    y_dot = r*x - y - x*z\n",
    "    z_dot = x*y - b*z\n",
    "    return x_dot, y_dot, z_dot\n",
    "\n",
    "dt = 0.01\n",
    "stepCnt = 10000\n",
    "\n",
    "# Need one more for the initial values\n",
    "xs = np.empty((stepCnt + 1,))\n",
    "ys = np.empty((stepCnt + 1,))\n",
    "zs = np.empty((stepCnt + 1,))\n",
    "\n",
    "# Setting initial values\n",
    "xs[0], ys[0], zs[0] = (0., 1., 1.05)\n",
    "\n",
    "# Stepping through \"time\".\n",
    "for i in range(stepCnt):\n",
    "    # Derivatives of the X, Y, Z state\n",
    "    x_dot, y_dot, z_dot = lorenz(xs[i], ys[i], zs[i])\n",
    "    xs[i + 1] = xs[i] + (x_dot * dt)\n",
    "    ys[i + 1] = ys[i] + (y_dot * dt)\n",
    "    zs[i + 1] = zs[i] + (z_dot * dt)\n",
    "\n",
    "fig = plt.figure()\n",
    "ax = fig.gca(projection='3d')\n",
    "\n",
    "ax.plot(xs, ys, zs, alpha=.5)\n",
    "ax.set_xlabel(\"X Axis\")\n",
    "ax.set_ylabel(\"Y Axis\")\n",
    "ax.set_zlabel(\"Z Axis\")\n",
    "ax.set_title(\"Lorenz Attractor\")"
   ]
  },
  {
   "cell_type": "markdown",
   "metadata": {},
   "source": [
    "## Rich user interaction"
   ]
  },
  {
   "cell_type": "code",
   "execution_count": null,
   "metadata": {
    "collapsed": false,
    "scrolled": false
   },
   "outputs": [],
   "source": [
    "# Creates two identical panels.  Zooming in on the right panel will show\n",
    "# a rectangle in the first panel, denoting the zoomed region.\n",
    "import numpy as np\n",
    "import matplotlib.pyplot as plt\n",
    "from matplotlib.patches import Rectangle\n",
    "\n",
    "# We just subclass Rectangle so that it can be called with an Axes\n",
    "# instance, causing the rectangle to update its shape to match the\n",
    "# bounds of the Axes\n",
    "class UpdatingRect(Rectangle):\n",
    "    def __call__(self, ax):\n",
    "        self.set_bounds(*ax.viewLim.bounds)\n",
    "        ax.figure.canvas.draw_idle()\n",
    "\n",
    "# A class that will regenerate a fractal set as we zoom in, so that you\n",
    "# can actually see the increasing detail.  A box in the left panel will show\n",
    "# the area to which we are zoomed.\n",
    "class MandlebrotDisplay(object):\n",
    "    def __init__(self, h=500, w=500, niter=50, radius=2., power=2):\n",
    "        self.height = h\n",
    "        self.width = w\n",
    "        self.niter = niter\n",
    "        self.radius = radius\n",
    "        self.power = power\n",
    "\n",
    "    def __call__(self, xstart, xend, ystart, yend):\n",
    "        self.x = np.linspace(xstart, xend, self.width)\n",
    "        self.y = np.linspace(ystart, yend, self.height).reshape(-1,1)\n",
    "        c = self.x + 1.0j * self.y\n",
    "        threshold_time = np.zeros((self.height, self.width))\n",
    "        z = np.zeros(threshold_time.shape, dtype=np.complex)\n",
    "        mask = np.ones(threshold_time.shape, dtype=np.bool)\n",
    "        for i in range(self.niter):\n",
    "            z[mask] = z[mask]**self.power + c[mask]\n",
    "            mask = (np.abs(z) < self.radius)\n",
    "            threshold_time += mask\n",
    "        return threshold_time\n",
    "\n",
    "    def ax_update(self, ax):\n",
    "        ax.set_autoscale_on(False) # Otherwise, infinite loop\n",
    "\n",
    "        #Get the number of points from the number of pixels in the window\n",
    "        dims = ax.axesPatch.get_window_extent().bounds\n",
    "        self.width = int(dims[2] + 0.5)\n",
    "        self.height = int(dims[2] + 0.5)\n",
    "\n",
    "        #Get the range for the new area\n",
    "        xstart,ystart,xdelta,ydelta = ax.viewLim.bounds\n",
    "        xend = xstart + xdelta\n",
    "        yend = ystart + ydelta\n",
    "\n",
    "        # Update the image object with our new data and extent\n",
    "        im = ax.images[-1]\n",
    "        im.set_data(self.__call__(xstart, xend, ystart, yend))\n",
    "        im.set_extent((xstart, xend, ystart, yend))\n",
    "        ax.figure.canvas.draw_idle()\n",
    "\n",
    "md = MandlebrotDisplay()\n",
    "Z = md(-2., 0.5, -1.25, 1.25)\n",
    "\n",
    "fig1, (ax1, ax2) = plt.subplots(1, 2)\n",
    "ax1.imshow(Z, origin='lower', extent=(md.x.min(), md.x.max(), md.y.min(), md.y.max()), cmap='YlGnBu')\n",
    "ax2.imshow(Z, origin='lower', extent=(md.x.min(), md.x.max(), md.y.min(), md.y.max()), cmap='YlGnBu')\n",
    "\n",
    "rect = UpdatingRect([0, 0], 0, 0, facecolor='None', edgecolor='black', lw=2)\n",
    "rect.set_bounds(*ax2.viewLim.bounds)\n",
    "ax1.add_patch(rect)\n",
    "\n",
    "# Connect for changing the view limits\n",
    "ax2.callbacks.connect('xlim_changed', rect)\n",
    "ax2.callbacks.connect('ylim_changed', rect)\n",
    "\n",
    "ax2.callbacks.connect('xlim_changed', md.ax_update)\n",
    "ax2.callbacks.connect('ylim_changed', md.ax_update)\n",
    "\n",
    "ax2.set_title('zoom on me')\n",
    "ax1.set_title('over')"
   ]
  },
  {
   "cell_type": "markdown",
   "metadata": {},
   "source": [
    "## Animation"
   ]
  },
  {
   "cell_type": "code",
   "execution_count": null,
   "metadata": {
    "collapsed": false,
    "scrolled": false
   },
   "outputs": [],
   "source": [
    "from numpy import sin, cos\n",
    "import numpy as np\n",
    "import matplotlib.pyplot as plt\n",
    "import scipy.integrate as integrate\n",
    "import matplotlib.animation as animation\n",
    "\n",
    "G = 9.8  # acceleration due to gravity, in m/s^2\n",
    "L1 = 1.0  # length of pendulum 1 in m\n",
    "L2 = 1.0  # length of pendulum 2 in m\n",
    "M1 = 1.0  # mass of pendulum 1 in kg\n",
    "M2 = 1.0  # mass of pendulum 2 in kg\n",
    "\n",
    "def derivs(state, t):\n",
    "    dydx = np.zeros_like(state)\n",
    "    dydx[0] = state[1]\n",
    "\n",
    "    del_ = state[2] - state[0]\n",
    "    den1 = (M1 + M2)*L1 - M2*L1*cos(del_)*cos(del_)\n",
    "    dydx[1] = (M2*L1*state[1]*state[1]*sin(del_)*cos(del_) +\n",
    "               M2*G*sin(state[2])*cos(del_) +\n",
    "               M2*L2*state[3]*state[3]*sin(del_) -\n",
    "               (M1 + M2)*G*sin(state[0]))/den1\n",
    "\n",
    "    dydx[2] = state[3]\n",
    "\n",
    "    den2 = (L2/L1)*den1\n",
    "    dydx[3] = (-M2*L2*state[3]*state[3]*sin(del_)*cos(del_) +\n",
    "               (M1 + M2)*G*sin(state[0])*cos(del_) -\n",
    "               (M1 + M2)*L1*state[1]*state[1]*sin(del_) -\n",
    "               (M1 + M2)*G*sin(state[2]))/den2\n",
    "\n",
    "    return dydx\n",
    "\n",
    "# create a time array from 0..100 sampled at 0.05 second steps\n",
    "dt = 0.05\n",
    "t = np.arange(0.0, 20, dt)\n",
    "\n",
    "# th1 and th2 are the initial angles (degrees)\n",
    "# w10 and w20 are the initial angular velocities (degrees per second)\n",
    "th1 = 120.0\n",
    "w1 = 0.0\n",
    "th2 = -10.0\n",
    "w2 = 0.0\n",
    "\n",
    "# initial state\n",
    "state = np.radians([th1, w1, th2, w2])\n",
    "\n",
    "# integrate your ODE using scipy.integrate.\n",
    "y = integrate.odeint(derivs, state, t)\n",
    "\n",
    "x1 = L1*sin(y[:, 0])\n",
    "y1 = -L1*cos(y[:, 0])\n",
    "\n",
    "x2 = L2*sin(y[:, 2]) + x1\n",
    "y2 = -L2*cos(y[:, 2]) + y1\n",
    "\n",
    "fig = plt.figure()\n",
    "ax = fig.add_subplot(111, autoscale_on=False, xlim=(-2, 2), ylim=(-2, 2))\n",
    "ax.grid()\n",
    "\n",
    "line, = ax.plot([], [], 'o-', lw=2)\n",
    "time_template = 'time = %.1fs'\n",
    "time_text = ax.text(0.05, 0.9, '', transform=ax.transAxes)\n",
    "\n",
    "\n",
    "def init():\n",
    "    line.set_data([], [])\n",
    "    time_text.set_text('')\n",
    "    return line, time_text\n",
    "\n",
    "\n",
    "def animate(i):\n",
    "    thisx = [0, x1[i], x2[i]]\n",
    "    thisy = [0, y1[i], y2[i]]\n",
    "\n",
    "    line.set_data(thisx, thisy)\n",
    "    time_text.set_text(time_template % (i*dt))\n",
    "    return line, time_text\n",
    "\n",
    "ani = animation.FuncAnimation(fig, animate, np.arange(1, len(y)),\n",
    "                              interval=25, blit=True, init_func=init)\n",
    "\n",
    "plt.show()\n"
   ]
  },
  {
   "cell_type": "markdown",
   "metadata": {},
   "source": [
    "## matplotlib.style\n",
    " - partially update rcparams (default values)\n",
    " - Tony Yu "
   ]
  },
  {
   "cell_type": "code",
   "execution_count": null,
   "metadata": {
    "collapsed": false,
    "scrolled": false
   },
   "outputs": [],
   "source": [
    "import matplotlib.style as ms\n",
    "ms.available"
   ]
  },
  {
   "cell_type": "code",
   "execution_count": null,
   "metadata": {
    "collapsed": false,
    "scrolled": false
   },
   "outputs": [],
   "source": [
    "th = np.linspace(0, 2*np.pi, 1024)\n",
    "\n",
    "with ms.context('fivethirtyeight'):\n",
    "    fig, ax = plt.subplots()\n",
    "    ln_sin, = ax.plot(th, np.sin(th))\n",
    "    ln_cos, = ax.plot(th, np.cos(th))\n",
    "    ax.set_xlim(0, 2*np.pi)"
   ]
  },
  {
   "cell_type": "code",
   "execution_count": null,
   "metadata": {
    "collapsed": false,
    "scrolled": false
   },
   "outputs": [],
   "source": [
    "leheny = 'http://tiny.cc/leheny-style/raw'\n",
    "\n",
    "with ms.context(leheny):\n",
    "    fig, ax = plt.subplots()\n",
    "    ln_sin, = ax.plot(th, np.sin(th))\n",
    "    ln_cos, = ax.plot(th, np.cos(th))\n",
    "    ax.set_xlim(0, 2*np.pi)"
   ]
  },
  {
   "cell_type": "markdown",
   "metadata": {},
   "source": [
    "## Automatic updating without pyplot"
   ]
  },
  {
   "cell_type": "code",
   "execution_count": null,
   "metadata": {
    "collapsed": false,
    "scrolled": false
   },
   "outputs": [],
   "source": [
    "fig, ax = plt.subplots()\n",
    "ln, = ax.plot(th, np.sin(th), ls='--')"
   ]
  },
  {
   "cell_type": "code",
   "execution_count": null,
   "metadata": {
    "collapsed": false,
    "scrolled": false
   },
   "outputs": [],
   "source": [
    "ln.set_color('green')\n",
    "ln.set_linewidth(20)"
   ]
  },
  {
   "cell_type": "markdown",
   "metadata": {},
   "source": [
    "## String labels to bar plots"
   ]
  },
  {
   "cell_type": "code",
   "execution_count": null,
   "metadata": {
    "collapsed": false,
    "scrolled": false
   },
   "outputs": [],
   "source": [
    "fig, ax = plt.subplots()\n",
    "ax.bar(range(3), [5, 6, 10], tick_label=list('😅😍🚀'), align='center')\n",
    "[(t.set_fontname('symbola'), t.set_fontsize(32)) for t in ax.xaxis.get_ticklabels()]"
   ]
  },
  {
   "cell_type": "markdown",
   "metadata": {},
   "source": [
    "## Cycler"
   ]
  },
  {
   "cell_type": "code",
   "execution_count": null,
   "metadata": {
    "collapsed": true,
    "scrolled": false
   },
   "outputs": [],
   "source": [
    "import cycler as cr"
   ]
  },
  {
   "cell_type": "code",
   "execution_count": null,
   "metadata": {
    "collapsed": false,
    "scrolled": false
   },
   "outputs": [],
   "source": [
    "plt.figure()\n",
    "\n",
    "with plt.rc_context(rc={'axes.prop_cycle': \"cycler('color', 'k') * cycler('ls', ['-', '--', ':'])\"}):\n",
    "    plt.plot([1, 2, 3])\n",
    "    plt.plot([3, 2, 1])\n",
    "    plt.plot([2, 2, 2])"
   ]
  },
  {
   "cell_type": "code",
   "execution_count": null,
   "metadata": {
    "collapsed": false,
    "scrolled": false
   },
   "outputs": [],
   "source": [
    "from cycler import cycler\n",
    "plt.figure()\n",
    "\n",
    "cmap = cycler('cmap', ['viridis', 'magma','plasma', 'inferno'])\n",
    "x_mode = cycler('x', [1, 2])\n",
    "y_mode = cycler('y', x_mode)\n",
    "\n",
    "def demo(ax, x, y, cmap):\n",
    "    X, Y = np.ogrid[0:2*np.pi:200j, 0:2*np.pi:200j]\n",
    "    data = np.sin(X*x) * np.cos(Y*y)\n",
    "    ax.imshow(data, interpolation='none', cmap=cmap)\n",
    "    ax.set_title(cmap)\n",
    "    \n",
    "cy = (x_mode * y_mode) + cmap \n",
    "\n",
    "\n",
    "fig, axes = plt.subplots(2, 2)\n",
    "for ax, sty in zip(axes.ravel(), cy):\n",
    "    demo(ax, **sty)\n",
    "fig.suptitle('viridis will be the new default colormap in 2.0')    "
   ]
  },
  {
   "cell_type": "markdown",
   "metadata": {},
   "source": [
    "## Labeled data support"
   ]
  },
  {
   "cell_type": "code",
   "execution_count": null,
   "metadata": {
    "collapsed": false,
    "scrolled": false
   },
   "outputs": [],
   "source": [
    "autos = pd.read_csv('auto-mpg.csv')\n",
    "autos"
   ]
  },
  {
   "cell_type": "code",
   "execution_count": null,
   "metadata": {
    "collapsed": false,
    "scrolled": false
   },
   "outputs": [],
   "source": [
    "fig, ax = plt.subplots()\n",
    "sc = ax.scatter('mpg', 'weight', 'hp', 'cyl', data=autos)\n",
    "plt.colorbar(sc)\n",
    "ax.set_ylabel('weight (lbs)')\n",
    "ax.set_xlabel('mpg')"
   ]
  },
  {
   "cell_type": "markdown",
   "metadata": {},
   "source": [
    "## Easy faceting"
   ]
  },
  {
   "cell_type": "code",
   "execution_count": null,
   "metadata": {
    "collapsed": false,
    "scrolled": false
   },
   "outputs": [],
   "source": [
    "\n",
    "from cycler import cycler\n",
    "import matplotlib.pyplot as plt\n",
    "import pandas as pd\n",
    "import numpy as np\n",
    "\n",
    "def simple_plot(ax, x, y, **kwargs):\n",
    "    return ax.plot(x, y, **kwargs)\n",
    "\n",
    "th = np.linspace(0, 2*np.pi, 128)\n",
    "df = pd.DataFrame({'sin': np.sin(th), 'cos': np.cos(th),\n",
    "                   'sin2': .5 * np.sin(2 * th), 'cos2': .5 * np.cos(2 * th)})\n",
    "\n",
    "def easy_facet(df, cycle1, cycle2):\n",
    "    cycleX = (cycler('x', df.keys()) + cycle1)\n",
    "    cycleY = (cycler('y', df.keys()) + cycle2) \n",
    "    kw_cycle = cycleX * cycleY\n",
    "\n",
    "    fig, axes = plt.subplots(len(df.keys()), len(df.keys()), sharex=True, sharey=True,\n",
    "                             figsize=(10, 10))\n",
    "    lines = []\n",
    "    axes[0, 0].set_xlim([-1, 1])\n",
    "    axes[0, 0].set_ylim([-1, 1])\n",
    "    for ax, kwargs in zip(axes.ravel(), kw_cycle):\n",
    "        \n",
    "        ln, = simple_plot(ax, markevery=5, data=df, **kwargs)\n",
    "        ax.set_title('{x} vs {y}'.format(**kwargs))\n",
    "        lines.append(ln)\n",
    "        \n",
    "    return lines\n",
    "\n",
    "\n",
    "arts = easy_facet(df, cycler('linestyle', ['-', '--', ':', '']), cycler('marker', 'xos*'))"
   ]
  },
  {
   "cell_type": "markdown",
   "metadata": {
    "collapsed": true
   },
   "source": [
    "## Other new features"
   ]
  },
  {
   "cell_type": "markdown",
   "metadata": {},
   "source": [
    " - auto-wrapping of long text\n",
    " \n",
    " <img src=\"whats_new-2.png\"/>\n",
    " \n",
    " - contour corner masking\n",
    " \n",
    " <img src=\"contour_corner_mask2.png\"/>\n",
    " \n",
    " - bar plots with labels\n",
    " - smooth colorbars\n",
    " - legend support for more collections\n",
    " - per-artist usetex control\n",
    " - unified line style across Line, Patch, and Collection\n",
    " - add page notes in multi-page pdfs\n",
    " - support both wxpython classic and wxpython phoenix (python 3 support)\n",
    " - Added 'logit' axis scale\n",
    " - Major improvements to table\n"
   ]
  },
  {
   "cell_type": "markdown",
   "metadata": {},
   "source": [
    "# The future\n",
    "\n",
    "## Version 2.0\n",
    "\n",
    "### Style changes only\n",
    "\n",
    "## Version 2.1\n",
    "\n",
    "### Better interoperability\n",
    "\n",
    " - nbagg + widget integration (jupyter notebook, Steven Silvester)\n",
    " - better containers classes \n",
    " - serialization & traitlets (Brian Granger / Ryan Morshead)\n",
    " \n",
    "## Beyond\n",
    " \n",
    "<img src=\"lego2.jpg\"/>"
   ]
  },
  {
   "cell_type": "markdown",
   "metadata": {},
   "source": [
    "### Place in community\n",
    "\n",
    " - we really are low on resources, but that's improving\n",
    " - always looking for new contributors \n",
    " - usage now well outside domain knowledge of core-devs\n",
    "  - looking for domain experts to develop specialized plotting tools\n",
    "  - happy to host projects built on top of mpl under matplotlib.org organization\n",
    " - we are a substrate for domain-specific plotting (seaborn, pandas, glueviz, holoviews etc)"
   ]
  },
  {
   "cell_type": "markdown",
   "metadata": {},
   "source": [
    "## Thank you\n",
    "\n",
    "  - John Hunter"
   ]
  },
  {
   "cell_type": "code",
   "execution_count": null,
   "metadata": {
    "collapsed": false,
    "scrolled": false
   },
   "outputs": [],
   "source": [
    "import textwrap\n",
    "commits = pd.read_csv('commits_time_author.csv', sep='&')\n",
    "commiters = Counter(commits['name'])\n",
    "print('\\n'.join(textwrap.wrap(', '.join(sorted([n.split('<')[0].rstrip() for n in commiters.keys()])))))"
   ]
  },
  {
   "cell_type": "code",
   "execution_count": null,
   "metadata": {
    "collapsed": true,
    "scrolled": false
   },
   "outputs": [],
   "source": []
  }
 ],
 "metadata": {
  "kernelspec": {
   "display_name": "Python 3",
   "language": "python",
   "name": "python3"
  },
  "language_info": {
   "codemirror_mode": {
    "name": "ipython",
    "version": 3
   },
   "file_extension": ".py",
   "mimetype": "text/x-python",
   "name": "python",
   "nbconvert_exporter": "python",
   "pygments_lexer": "ipython3",
   "version": "3.4.3"
  }
 },
 "nbformat": 4,
 "nbformat_minor": 0
}
